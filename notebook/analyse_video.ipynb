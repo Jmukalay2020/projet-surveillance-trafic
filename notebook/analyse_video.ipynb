{
 "cells": [
  {
   "cell_type": "code",
   "execution_count": null,
   "id": "043cff64",
   "metadata": {},
   "outputs": [],
   "source": [
    "import sys\n",
    "sys.path.append('../model')\n",
    "from detection import VehicleDetector\n",
    "import matplotlib.pyplot as plt\n",
    "import pandas as pd\n"
   ]
  },
  {
   "cell_type": "code",
   "execution_count": null,
   "id": "bec98864",
   "metadata": {},
   "outputs": [],
   "source": [
    "# Remplacez 'chemin/vers/video.mp4' par le chemin réel de votre vidéo\n",
    "video_path = '../votre_video.mp4'\n",
    "detector = VehicleDetector(model_path='yolov5s.pt', conf=0.3)\n",
    "results = detector.detect_vehicles(video_path, save_csv=True, output_csv='resultats_detection.csv', show=False)\n",
    "print('Détection terminée. Résultats sauvegardés dans resultats_detection.csv')\n"
   ]
  },
  {
   "cell_type": "code",
   "execution_count": null,
   "id": "999f9391",
   "metadata": {},
   "outputs": [],
   "source": [
    "# Analyse des résultats\n",
    "import pandas as pd\n",
    "import matplotlib.pyplot as plt\n",
    "\n",
    "df = pd.read_csv('resultats_detection.csv')\n",
    "print('Statistiques sur la détection:')\n",
    "print('Nombre total de frames:', len(df))\n",
    "print('Nombre total de véhicules détectés:', df['count'].sum())\n",
    "\n",
    "plt.figure(figsize=(12, 5))\n",
    "plt.plot(df['frame'], df['count'], label='Véhicules détectés par frame')\n",
    "plt.xlabel('Frame')\n",
    "plt.ylabel('Nombre de véhicules')\n",
    "plt.title('Évolution du nombre de véhicules détectés par frame')\n",
    "plt.legend()\n",
    "plt.show()\n"
   ]
  },
  {
   "cell_type": "code",
   "execution_count": null,
   "id": "348ec906",
   "metadata": {
    "vscode": {
     "languageId": "plaintext"
    }
   },
   "outputs": [],
   "source": []
  }
 ],
 "metadata": {
  "language_info": {
   "name": "python"
  }
 },
 "nbformat": 4,
 "nbformat_minor": 5
}
